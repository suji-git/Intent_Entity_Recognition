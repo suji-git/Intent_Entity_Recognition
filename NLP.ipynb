{
 "cells": [
  {
   "cell_type": "markdown",
   "metadata": {},
   "source": [
    "Speaker 1: Hello \n",
    "Speaker 2:Hi nancy , This is Mike from NTNT corporation  \n",
    "Speaker 1: Yes , How can I help you?\n",
    "Speaker 2:Nancy , yoy are being using our prepaid connection for couple of years now right\n",
    "Speaker 1: yeah thats right\n",
    "Speaker 2:How would you like a postpaid connection that allows you to make free unlimited voice calls with 3 8080 numbers\n",
    "Speaker 1:yes i would love that , but whats the catch\n",
    "Speaker 2: There is no catch , there will be a monthly rental which you will have to pay like anyother postpaid connection.\n",
    "Speaker 1: Fantastic ! "
   ]
  },
  {
   "cell_type": "code",
   "execution_count": 1,
   "metadata": {},
   "outputs": [],
   "source": [
    "from rasa_nlu.training_data import load_data\n",
    "from rasa_nlu.config import RasaNLUModelConfig\n",
    "from rasa_nlu.model import Trainer\n",
    "from rasa_nlu import config"
   ]
  },
  {
   "cell_type": "code",
   "execution_count": 2,
   "metadata": {},
   "outputs": [],
   "source": [
    "train_data = load_data('rasa-dataset.json')\n"
   ]
  },
  {
   "cell_type": "code",
   "execution_count": 3,
   "metadata": {},
   "outputs": [],
   "source": [
    "trainer = Trainer(config.load(\"config_spacy.yaml\"))\n"
   ]
  },
  {
   "cell_type": "code",
   "execution_count": 4,
   "metadata": {},
   "outputs": [
    {
     "name": "stdout",
     "output_type": "stream",
     "text": [
      "Fitting 2 folds for each of 6 candidates, totalling 12 fits\n"
     ]
    },
    {
     "name": "stderr",
     "output_type": "stream",
     "text": [
      "/home/ckpl/anaconda3/lib/python3.7/site-packages/rasa_nlu/training_data/training_data.py:184: UserWarning: Entity 'company' has only 1 training examples! minimum is 2, training may fail.\n",
      "  self.MIN_EXAMPLES_PER_ENTITY))\n",
      "/home/ckpl/anaconda3/lib/python3.7/site-packages/rasa_nlu/training_data/training_data.py:184: UserWarning: Entity 'name' has only 1 training examples! minimum is 2, training may fail.\n",
      "  self.MIN_EXAMPLES_PER_ENTITY))\n",
      "[Parallel(n_jobs=1)]: Using backend SequentialBackend with 1 concurrent workers.\n",
      "[Parallel(n_jobs=1)]: Done  12 out of  12 | elapsed:    0.0s finished\n"
     ]
    },
    {
     "data": {
      "text/plain": [
       "<rasa_nlu.model.Interpreter at 0x7fd14e4a8650>"
      ]
     },
     "execution_count": 4,
     "metadata": {},
     "output_type": "execute_result"
    }
   ],
   "source": [
    "trainer.train(train_data)\n"
   ]
  },
  {
   "cell_type": "code",
   "execution_count": 7,
   "metadata": {},
   "outputs": [],
   "source": [
    "model_directory = trainer.persist('projects/')\n"
   ]
  },
  {
   "cell_type": "code",
   "execution_count": 8,
   "id": "7bc40310",
   "metadata": {},
   "outputs": [],
   "source": [
    "import spacy\n",
    "nlp = spacy.load('en')"
   ]
  },
  {
   "cell_type": "code",
   "execution_count": 9,
   "id": "cc2b28e7",
   "metadata": {},
   "outputs": [],
   "source": [
    "docx = nlp(\"This is Mike from NTNT corporation\")\n"
   ]
  },
  {
   "cell_type": "code",
   "execution_count": 10,
   "id": "5e53331e",
   "metadata": {},
   "outputs": [
    {
     "name": "stdout",
     "output_type": "stream",
     "text": [
      "value Mike entity PERSON start 8 end 12\n",
      "value NTNT entity ORG start 18 end 22\n"
     ]
    }
   ],
   "source": [
    "for word in docx.ents:\n",
    "    print(\"value\",word.text,\"entity\",word.label_,\"start\",word.start_char,\"end\",word.end_char)\n"
   ]
  },
  {
   "cell_type": "code",
   "execution_count": 14,
   "id": "e714c140",
   "metadata": {},
   "outputs": [],
   "source": [
    "from rasa_nlu.model import Metadata, Interpreter\n"
   ]
  },
  {
   "cell_type": "code",
   "execution_count": 15,
   "id": "d31f7cc1",
   "metadata": {},
   "outputs": [],
   "source": [
    "interpreter = Interpreter.load(model_directory)\n"
   ]
  },
  {
   "cell_type": "code",
   "execution_count": 23,
   "id": "ed4bfcb4",
   "metadata": {},
   "outputs": [],
   "source": [
    "task2_output=interpreter.parse(u\"you are being using our prepaid connection for couple of years now right\")\n"
   ]
  },
  {
   "cell_type": "code",
   "execution_count": 24,
   "id": "a1eedf39",
   "metadata": {},
   "outputs": [
    {
     "data": {
      "text/plain": [
       "{'intent': {'name': 'ask_purpose', 'confidence': 0.7516487127982238},\n",
       " 'entities': [{'start': 24,\n",
       "   'end': 31,\n",
       "   'value': 'prepaid',\n",
       "   'entity': 'connection',\n",
       "   'confidence': 0.8309955001909003,\n",
       "   'extractor': 'CRFEntityExtractor'}],\n",
       " 'intent_ranking': [{'name': 'ask_purpose', 'confidence': 0.7516487127982238},\n",
       "  {'name': 'intro', 'confidence': 0.24835128720177616}],\n",
       " 'text': 'you are being using our prepaid connection for couple of years now right'}"
      ]
     },
     "execution_count": 24,
     "metadata": {},
     "output_type": "execute_result"
    }
   ],
   "source": [
    "task2_output"
   ]
  },
  {
   "cell_type": "code",
   "execution_count": 25,
   "id": "1ddf9cf2",
   "metadata": {},
   "outputs": [],
   "source": [
    "task1_output=interpreter.parse(u\"This is Mike from NTNT corporation\")"
   ]
  },
  {
   "cell_type": "code",
   "execution_count": 26,
   "id": "d181826e",
   "metadata": {},
   "outputs": [
    {
     "data": {
      "text/plain": [
       "{'intent': {'name': 'intro', 'confidence': 0.7484842007687692},\n",
       " 'entities': [],\n",
       " 'intent_ranking': [{'name': 'intro', 'confidence': 0.7484842007687692},\n",
       "  {'name': 'ask_purpose', 'confidence': 0.2515157992312311}],\n",
       " 'text': 'This is Mike from NTNT corporation'}"
      ]
     },
     "execution_count": 26,
     "metadata": {},
     "output_type": "execute_result"
    }
   ],
   "source": [
    "task1_output"
   ]
  },
  {
   "cell_type": "code",
   "execution_count": 27,
   "id": "a3160c56",
   "metadata": {},
   "outputs": [],
   "source": [
    "task3_output=interpreter.parse(u\"How would you like a postpaid connection that allows you to make free unlimited voice calls with 3 8080 numbers\")"
   ]
  },
  {
   "cell_type": "code",
   "execution_count": 28,
   "id": "e49a2ae5",
   "metadata": {},
   "outputs": [
    {
     "data": {
      "text/plain": [
       "{'intent': {'name': 'ask_purpose', 'confidence': 0.7770288567583942},\n",
       " 'entities': [{'start': 21,\n",
       "   'end': 29,\n",
       "   'value': 'postpaid',\n",
       "   'entity': 'connection',\n",
       "   'confidence': 0.8310022072769346,\n",
       "   'extractor': 'CRFEntityExtractor'}],\n",
       " 'intent_ranking': [{'name': 'ask_purpose', 'confidence': 0.7770288567583942},\n",
       "  {'name': 'intro', 'confidence': 0.22297114324160583}],\n",
       " 'text': 'How would you like a postpaid connection that allows you to make free unlimited voice calls with 3 8080 numbers'}"
      ]
     },
     "execution_count": 28,
     "metadata": {},
     "output_type": "execute_result"
    }
   ],
   "source": [
    "task3_output"
   ]
  },
  {
   "cell_type": "code",
   "execution_count": 33,
   "id": "9bc66922",
   "metadata": {},
   "outputs": [],
   "source": [
    "output={'task1_output': task1_output,'task2_output':task2_output,'task3_output':task3_output}"
   ]
  },
  {
   "cell_type": "code",
   "execution_count": 34,
   "id": "23248543",
   "metadata": {},
   "outputs": [
    {
     "data": {
      "text/plain": [
       "{'task1_output': {'intent': {'name': 'intro',\n",
       "   'confidence': 0.7484842007687692},\n",
       "  'entities': [],\n",
       "  'intent_ranking': [{'name': 'intro', 'confidence': 0.7484842007687692},\n",
       "   {'name': 'ask_purpose', 'confidence': 0.2515157992312311}],\n",
       "  'text': 'This is Mike from NTNT corporation'},\n",
       " 'task2_output': {'intent': {'name': 'ask_purpose',\n",
       "   'confidence': 0.7516487127982238},\n",
       "  'entities': [{'start': 24,\n",
       "    'end': 31,\n",
       "    'value': 'prepaid',\n",
       "    'entity': 'connection',\n",
       "    'confidence': 0.8309955001909003,\n",
       "    'extractor': 'CRFEntityExtractor'}],\n",
       "  'intent_ranking': [{'name': 'ask_purpose', 'confidence': 0.7516487127982238},\n",
       "   {'name': 'intro', 'confidence': 0.24835128720177616}],\n",
       "  'text': 'you are being using our prepaid connection for couple of years now right'},\n",
       " 'task3_output': {'intent': {'name': 'ask_purpose',\n",
       "   'confidence': 0.7770288567583942},\n",
       "  'entities': [{'start': 21,\n",
       "    'end': 29,\n",
       "    'value': 'postpaid',\n",
       "    'entity': 'connection',\n",
       "    'confidence': 0.8310022072769346,\n",
       "    'extractor': 'CRFEntityExtractor'}],\n",
       "  'intent_ranking': [{'name': 'ask_purpose', 'confidence': 0.7770288567583942},\n",
       "   {'name': 'intro', 'confidence': 0.22297114324160583}],\n",
       "  'text': 'How would you like a postpaid connection that allows you to make free unlimited voice calls with 3 8080 numbers'}}"
      ]
     },
     "execution_count": 34,
     "metadata": {},
     "output_type": "execute_result"
    }
   ],
   "source": [
    "output"
   ]
  },
  {
   "cell_type": "code",
   "execution_count": 35,
   "id": "97ea83b2",
   "metadata": {},
   "outputs": [],
   "source": [
    "import json\n",
    "with open(\"output.json\", \"w\") as write_file:\n",
    "    json.dump(output, write_file)"
   ]
  },
  {
   "cell_type": "code",
   "execution_count": null,
   "id": "a7320d01",
   "metadata": {},
   "outputs": [],
   "source": []
  }
 ],
 "metadata": {
  "kernelspec": {
   "display_name": "base",
   "language": "python",
   "name": "python3"
  },
  "language_info": {
   "codemirror_mode": {
    "name": "ipython",
    "version": 3
   },
   "file_extension": ".py",
   "mimetype": "text/x-python",
   "name": "python",
   "nbconvert_exporter": "python",
   "pygments_lexer": "ipython3",
   "version": "3.7.6"
  },
  "vscode": {
   "interpreter": {
    "hash": "ba92b1afb5bf58e1daf8cc1fbffc0c9aa520141d1143176be31312e2d79d35f4"
   }
  }
 },
 "nbformat": 4,
 "nbformat_minor": 5
}
